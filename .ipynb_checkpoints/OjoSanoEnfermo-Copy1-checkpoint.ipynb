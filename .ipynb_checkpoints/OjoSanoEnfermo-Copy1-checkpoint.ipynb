{
 "cells": [
  {
   "cell_type": "code",
   "execution_count": 1,
   "metadata": {},
   "outputs": [
    {
     "name": "stderr",
     "output_type": "stream",
     "text": [
      "Using TensorFlow backend.\n"
     ]
    }
   ],
   "source": [
    "import numpy as np\n",
    "import matplotlib.pyplot as plt\n",
    "from tqdm import tqdm\n",
    "import os\n",
    "\n",
    "import keras as ks\n",
    "from keras.preprocessing import image\n",
    "from keras.applications import imagenet_utils\n",
    "from IPython.display import display\n",
    "from PIL import Image\n",
    "from keras.callbacks import ModelCheckpoint, TensorBoard\n",
    "from sklearn.utils import shuffle\n",
    "from keras.optimizers import Adam\n",
    "from keras.callbacks import ModelCheckpoint, TensorBoard\n",
    "from keras.applications.mobilenet_v2 import MobileNetV2, preprocess_input\n",
    "from sklearn.model_selection import train_test_split\n",
    "from keras.utils.np_utils import to_categorical # convert to one-hot-encoding\n",
    "from keras.models import Sequential, Model, load_model\n",
    "from keras.layers import Dense, Dropout, Flatten, Activation, Conv2D, MaxPool2D, GlobalAveragePooling2D, Input\n",
    "from keras.layers import Conv2D, MaxPooling2D\n",
    "from keras.optimizers import RMSprop, SGD\n",
    "from keras.callbacks import ReduceLROnPlateau, ModelCheckpoint\n",
    "from keras.preprocessing.image import ImageDataGenerator\n",
    "from sklearn.metrics import confusion_matrix, accuracy_score, f1_score, precision_score, recall_score\n",
    "from keras.layers.advanced_activations import LeakyReLU\n",
    "import matplotlib.pyplot as plt\n",
    "%matplotlib inline"
   ]
  },
  {
   "cell_type": "code",
   "execution_count": 2,
   "metadata": {},
   "outputs": [
    {
     "name": "stdout",
     "output_type": "stream",
     "text": [
      "WARNING:tensorflow:From /usr/local/lib/python3.6/dist-packages/tensorflow/python/framework/op_def_library.py:263: colocate_with (from tensorflow.python.framework.ops) is deprecated and will be removed in a future version.\n",
      "Instructions for updating:\n",
      "Colocations handled automatically by placer.\n"
     ]
    }
   ],
   "source": [
    "weights = ks.applications.mobilenet_v2.MobileNetV2(input_shape=(224,224,3), include_top=False, weights='imagenet', pooling='avg')"
   ]
  },
  {
   "cell_type": "code",
   "execution_count": 3,
   "metadata": {},
   "outputs": [],
   "source": [
    "def load_images_from_folder(f, l, m):\n",
    "    e_l = []\n",
    "    feat_l = []\n",
    "    for filename in tqdm(os.listdir(f)):\n",
    "        img_path = os.path.join(f, filename)\n",
    "        img = image.load_img(img_path, target_size=(224, 224))\n",
    "        x = image.img_to_array(img)\n",
    "        x = np.expand_dims(x, axis=0)\n",
    "        x = preprocess_input(x)\n",
    "        e = m.predict(x)\n",
    "\n",
    "        e_l.append(e)\n",
    "        feat_l.append(l)\n",
    "        \n",
    "    return e_l, feat_l"
   ]
  },
  {
   "cell_type": "code",
   "execution_count": 4,
   "metadata": {},
   "outputs": [],
   "source": [
    "def load_image(f, m):\n",
    "    img_path = os.path.join('', f)\n",
    "    img = image.load_img(img_path, target_size=(224, 224))\n",
    "    x = image.img_to_array(img)\n",
    "    x = np.expand_dims(x, axis=0)\n",
    "    x = preprocess_input(x)\n",
    "    e = m.predict(x)\n",
    "        \n",
    "    return e"
   ]
  },
  {
   "cell_type": "code",
   "execution_count": 5,
   "metadata": {},
   "outputs": [
    {
     "name": "stderr",
     "output_type": "stream",
     "text": [
      "100%|██████████| 827/827 [01:00<00:00, 14.47it/s]\n"
     ]
    }
   ],
   "source": [
    "enfermos, feat_enfermos = load_images_from_folder('fondo_de_ojo_train/enfermo/', 0, weights)"
   ]
  },
  {
   "cell_type": "code",
   "execution_count": 6,
   "metadata": {},
   "outputs": [
    {
     "name": "stderr",
     "output_type": "stream",
     "text": [
      "100%|██████████| 815/815 [01:00<00:00, 13.60it/s]\n"
     ]
    }
   ],
   "source": [
    "sanos, feat_sanos = load_images_from_folder('fondo_de_ojo_train/sano/', 1, weights)"
   ]
  },
  {
   "cell_type": "code",
   "execution_count": 7,
   "metadata": {},
   "outputs": [],
   "source": [
    "X = sanos + enfermos\n",
    "Y = feat_sanos + feat_enfermos\n",
    "X = np.array(X)\n",
    "Y = np.array(Y)\n",
    "X,Y = shuffle(X, Y, random_state = 0)"
   ]
  },
  {
   "cell_type": "code",
   "execution_count": 8,
   "metadata": {},
   "outputs": [
    {
     "name": "stdout",
     "output_type": "stream",
     "text": [
      "Training data shape :  (1313, 1, 1280) (1313,)\n",
      "Testing data shape :  (329, 1, 1280) (329,)\n"
     ]
    }
   ],
   "source": [
    "train_X,test_X,train_Y,test_Y = train_test_split(X,Y,test_size=0.2)\n",
    "print('Training data shape : ', train_X.shape, train_Y.shape)\n",
    "print('Testing data shape : ', test_X.shape, test_Y.shape)"
   ]
  },
  {
   "cell_type": "code",
   "execution_count": 9,
   "metadata": {},
   "outputs": [],
   "source": [
    "train_X = train_X / 255.\n",
    "test_X = test_X / 255."
   ]
  },
  {
   "cell_type": "code",
   "execution_count": 10,
   "metadata": {},
   "outputs": [
    {
     "data": {
      "text/plain": [
       "2"
      ]
     },
     "execution_count": 10,
     "metadata": {},
     "output_type": "execute_result"
    }
   ],
   "source": [
    "classes = np.unique(train_Y)\n",
    "nClasses = len(classes)\n",
    "nClasses"
   ]
  },
  {
   "cell_type": "code",
   "execution_count": 11,
   "metadata": {},
   "outputs": [
    {
     "name": "stdout",
     "output_type": "stream",
     "text": [
      "Original label: 1\n",
      "After conversion to one-hot: [0. 1.]\n"
     ]
    }
   ],
   "source": [
    "train_Y_one_hot = to_categorical(train_Y)\n",
    "test_Y_one_hot = to_categorical(test_Y)\n",
    " \n",
    "# Display the change for category label using one-hot encoding\n",
    "print('Original label:', train_Y[0])\n",
    "print('After conversion to one-hot:', train_Y_one_hot[0])"
   ]
  },
  {
   "cell_type": "code",
   "execution_count": 12,
   "metadata": {},
   "outputs": [],
   "source": [
    "train_X, valid_X, train_Y, valid_Y = train_test_split(train_X, train_Y_one_hot, test_size=0.2)"
   ]
  },
  {
   "cell_type": "code",
   "execution_count": 13,
   "metadata": {},
   "outputs": [
    {
     "data": {
      "text/plain": [
       "1050"
      ]
     },
     "execution_count": 13,
     "metadata": {},
     "output_type": "execute_result"
    }
   ],
   "source": [
    "train_X.shape[0]"
   ]
  },
  {
   "cell_type": "code",
   "execution_count": 83,
   "metadata": {
    "scrolled": true
   },
   "outputs": [
    {
     "name": "stdout",
     "output_type": "stream",
     "text": [
      "_________________________________________________________________\n",
      "Layer (type)                 Output Shape              Param #   \n",
      "=================================================================\n",
      "dense_232 (Dense)            (None, 1, 200)            256200    \n",
      "_________________________________________________________________\n",
      "flatten_53 (Flatten)         (None, 200)               0         \n",
      "_________________________________________________________________\n",
      "dense_233 (Dense)            (None, 12)                2412      \n",
      "_________________________________________________________________\n",
      "dropout_9 (Dropout)          (None, 12)                0         \n",
      "_________________________________________________________________\n",
      "dense_234 (Dense)            (None, 20)                260       \n",
      "_________________________________________________________________\n",
      "dropout_10 (Dropout)         (None, 20)                0         \n",
      "_________________________________________________________________\n",
      "dense_235 (Dense)            (None, 2)                 42        \n",
      "=================================================================\n",
      "Total params: 258,914\n",
      "Trainable params: 258,914\n",
      "Non-trainable params: 0\n",
      "_________________________________________________________________\n",
      "\n",
      "Training...\n",
      "Train on 1050 samples, validate on 263 samples\n",
      "Epoch 1/50\n",
      "1050/1050 [==============================] - 3s 3ms/step - loss: 0.6942 - acc: 0.5152 - val_loss: 0.6934 - val_acc: 0.4677\n",
      "Epoch 2/50\n",
      "1050/1050 [==============================] - 0s 119us/step - loss: 0.6910 - acc: 0.5067 - val_loss: 0.6957 - val_acc: 0.4677\n",
      "Epoch 3/50\n",
      "1050/1050 [==============================] - 0s 116us/step - loss: 0.6959 - acc: 0.5067 - val_loss: 0.6923 - val_acc: 0.4715\n",
      "Epoch 4/50\n",
      "1050/1050 [==============================] - 0s 99us/step - loss: 0.6903 - acc: 0.5419 - val_loss: 0.6900 - val_acc: 0.5475\n",
      "Epoch 5/50\n",
      "1050/1050 [==============================] - 0s 98us/step - loss: 0.6869 - acc: 0.5429 - val_loss: 0.6865 - val_acc: 0.5817\n",
      "Epoch 6/50\n",
      "1050/1050 [==============================] - 0s 98us/step - loss: 0.6841 - acc: 0.5438 - val_loss: 0.6855 - val_acc: 0.5665\n",
      "Epoch 7/50\n",
      "1050/1050 [==============================] - 0s 105us/step - loss: 0.6802 - acc: 0.5610 - val_loss: 0.6779 - val_acc: 0.6084\n",
      "Epoch 8/50\n",
      "1050/1050 [==============================] - 0s 106us/step - loss: 0.6688 - acc: 0.5895 - val_loss: 0.6782 - val_acc: 0.5399\n",
      "Epoch 9/50\n",
      "1050/1050 [==============================] - 0s 106us/step - loss: 0.6634 - acc: 0.6019 - val_loss: 0.6570 - val_acc: 0.6122\n",
      "Epoch 10/50\n",
      "1050/1050 [==============================] - 0s 105us/step - loss: 0.6511 - acc: 0.6067 - val_loss: 0.6476 - val_acc: 0.6464\n",
      "Epoch 11/50\n",
      "1050/1050 [==============================] - 0s 105us/step - loss: 0.6501 - acc: 0.6238 - val_loss: 0.6443 - val_acc: 0.6388\n",
      "Epoch 12/50\n",
      "1050/1050 [==============================] - 0s 98us/step - loss: 0.6431 - acc: 0.6305 - val_loss: 0.6293 - val_acc: 0.6692\n",
      "Epoch 13/50\n",
      "1050/1050 [==============================] - 0s 97us/step - loss: 0.6304 - acc: 0.6362 - val_loss: 0.6234 - val_acc: 0.6578\n",
      "Epoch 14/50\n",
      "1050/1050 [==============================] - 0s 105us/step - loss: 0.6070 - acc: 0.6733 - val_loss: 0.6111 - val_acc: 0.6730\n",
      "Epoch 15/50\n",
      "1050/1050 [==============================] - 0s 99us/step - loss: 0.5977 - acc: 0.6714 - val_loss: 0.6084 - val_acc: 0.6654\n",
      "Epoch 16/50\n",
      "1050/1050 [==============================] - 0s 110us/step - loss: 0.5995 - acc: 0.6943 - val_loss: 0.6067 - val_acc: 0.6730\n",
      "Epoch 17/50\n",
      "1050/1050 [==============================] - 0s 110us/step - loss: 0.5980 - acc: 0.6914 - val_loss: 0.6011 - val_acc: 0.6692\n",
      "Epoch 18/50\n",
      "1050/1050 [==============================] - 0s 106us/step - loss: 0.5805 - acc: 0.6914 - val_loss: 0.6029 - val_acc: 0.6654\n",
      "Epoch 19/50\n",
      "1050/1050 [==============================] - 0s 122us/step - loss: 0.5698 - acc: 0.7133 - val_loss: 0.6028 - val_acc: 0.6692\n",
      "Epoch 20/50\n",
      "1050/1050 [==============================] - 0s 110us/step - loss: 0.5830 - acc: 0.6876 - val_loss: 0.6061 - val_acc: 0.6730\n",
      "Epoch 21/50\n",
      "1050/1050 [==============================] - 0s 104us/step - loss: 0.5838 - acc: 0.7067 - val_loss: 0.6018 - val_acc: 0.6654\n",
      "Epoch 22/50\n",
      "1050/1050 [==============================] - 0s 111us/step - loss: 0.5758 - acc: 0.7010 - val_loss: 0.6016 - val_acc: 0.6578\n",
      "Epoch 23/50\n",
      "1050/1050 [==============================] - 0s 113us/step - loss: 0.5320 - acc: 0.7219 - val_loss: 0.6218 - val_acc: 0.6540\n",
      "Epoch 24/50\n",
      "1050/1050 [==============================] - 0s 112us/step - loss: 0.5511 - acc: 0.7267 - val_loss: 0.6173 - val_acc: 0.6692\n",
      "Epoch 25/50\n",
      "1050/1050 [==============================] - 0s 104us/step - loss: 0.5346 - acc: 0.7305 - val_loss: 0.6115 - val_acc: 0.6692\n",
      "Epoch 26/50\n",
      "1050/1050 [==============================] - 0s 118us/step - loss: 0.5382 - acc: 0.7419 - val_loss: 0.6174 - val_acc: 0.6654\n",
      "Epoch 27/50\n",
      "1050/1050 [==============================] - 0s 120us/step - loss: 0.5249 - acc: 0.7543 - val_loss: 0.6067 - val_acc: 0.6502\n",
      "Epoch 28/50\n",
      "1050/1050 [==============================] - 0s 122us/step - loss: 0.5179 - acc: 0.7476 - val_loss: 0.6664 - val_acc: 0.6198\n",
      "Epoch 29/50\n",
      "1050/1050 [==============================] - 0s 129us/step - loss: 0.4980 - acc: 0.7667 - val_loss: 0.6718 - val_acc: 0.6274\n",
      "Epoch 30/50\n",
      "1050/1050 [==============================] - 0s 122us/step - loss: 0.5654 - acc: 0.7295 - val_loss: 0.6317 - val_acc: 0.6692\n",
      "Epoch 31/50\n",
      "1050/1050 [==============================] - 0s 123us/step - loss: 0.5098 - acc: 0.7495 - val_loss: 0.6182 - val_acc: 0.6502\n",
      "Epoch 32/50\n",
      "1050/1050 [==============================] - 0s 115us/step - loss: 0.4905 - acc: 0.7819 - val_loss: 0.6432 - val_acc: 0.6692\n",
      "Epoch 33/50\n",
      "1050/1050 [==============================] - 0s 100us/step - loss: 0.4863 - acc: 0.7867 - val_loss: 0.6460 - val_acc: 0.6578\n",
      "Epoch 34/50\n",
      "1050/1050 [==============================] - 0s 93us/step - loss: 0.4681 - acc: 0.7943 - val_loss: 0.6596 - val_acc: 0.6502\n",
      "Epoch 35/50\n",
      "1050/1050 [==============================] - 0s 116us/step - loss: 0.4556 - acc: 0.7876 - val_loss: 0.7311 - val_acc: 0.6236\n",
      "Epoch 36/50\n",
      "1050/1050 [==============================] - 0s 128us/step - loss: 0.4652 - acc: 0.7800 - val_loss: 0.6491 - val_acc: 0.6464\n",
      "Epoch 37/50\n",
      "1050/1050 [==============================] - 0s 130us/step - loss: 0.4600 - acc: 0.7933 - val_loss: 0.7179 - val_acc: 0.6578\n",
      "Epoch 38/50\n",
      "1050/1050 [==============================] - 0s 106us/step - loss: 0.4514 - acc: 0.7990 - val_loss: 0.7001 - val_acc: 0.6350\n",
      "Epoch 39/50\n",
      "1050/1050 [==============================] - 0s 103us/step - loss: 0.4514 - acc: 0.8057 - val_loss: 0.6806 - val_acc: 0.6578\n",
      "Epoch 40/50\n",
      "1050/1050 [==============================] - 0s 113us/step - loss: 0.4355 - acc: 0.8152 - val_loss: 0.7225 - val_acc: 0.6578\n",
      "Epoch 41/50\n",
      "1050/1050 [==============================] - 0s 120us/step - loss: 0.4184 - acc: 0.8219 - val_loss: 0.6761 - val_acc: 0.6312\n",
      "Epoch 42/50\n",
      "1050/1050 [==============================] - 0s 117us/step - loss: 0.4092 - acc: 0.8486 - val_loss: 0.7116 - val_acc: 0.6540\n",
      "Epoch 43/50\n",
      "1050/1050 [==============================] - 0s 104us/step - loss: 0.4218 - acc: 0.8086 - val_loss: 0.6800 - val_acc: 0.6616\n",
      "Epoch 44/50\n",
      "1050/1050 [==============================] - 0s 121us/step - loss: 0.4164 - acc: 0.8181 - val_loss: 0.8061 - val_acc: 0.6502\n",
      "Epoch 45/50\n",
      "1050/1050 [==============================] - 0s 115us/step - loss: 0.3670 - acc: 0.8571 - val_loss: 0.7501 - val_acc: 0.6540\n",
      "Epoch 46/50\n",
      "1050/1050 [==============================] - 0s 112us/step - loss: 0.3781 - acc: 0.8524 - val_loss: 0.7871 - val_acc: 0.6540\n",
      "Epoch 47/50\n",
      "1050/1050 [==============================] - 0s 114us/step - loss: 0.3982 - acc: 0.8190 - val_loss: 0.7166 - val_acc: 0.6616\n",
      "Epoch 48/50\n",
      "1050/1050 [==============================] - 0s 98us/step - loss: 0.3759 - acc: 0.8429 - val_loss: 0.8231 - val_acc: 0.6426\n",
      "Epoch 49/50\n",
      "1050/1050 [==============================] - 0s 105us/step - loss: 0.3799 - acc: 0.8457 - val_loss: 0.7573 - val_acc: 0.6502\n",
      "Epoch 50/50\n",
      "1050/1050 [==============================] - 0s 113us/step - loss: 0.3718 - acc: 0.8581 - val_loss: 0.7682 - val_acc: 0.6426\n"
     ]
    }
   ],
   "source": [
    "INIT_LR = 1e-3\n",
    "epochs = 50 #cantidad de ciclos # Un 'epoch' significa cuando el optimizador ya vio todos los ejemplos de entrenamiento al menos una vez.\n",
    "batch_size = 64 # 'batch_size' regula cuantas muestras utiliza el optimizador para calcular el gradiente en cada iteracion.\n",
    "exp_name = 'e01'#nombre del exprimento\n",
    "\n",
    "# Construimos nuestro modelo\n",
    "mobile = Sequential() #Las redes neuronales se definen en Keras como una secuencia de capas. \n",
    "mobile.add(Dense(input_shape=[1,train_X[0][0].shape[0]], units=200))\n",
    "mobile.add(Flatten())\n",
    "mobile.add(Dense(12, activation='relu'))\n",
    "mobile.add(Dropout(0.5))\n",
    "mobile.add(Dense(20,activation='relu'))\n",
    "mobile.add(Dropout(0.5))\n",
    "mobile.add(Dense(2, activation='softmax'))\n",
    "\n",
    "#Imprime una representación resumida de tu modelo.\n",
    "mobile.summary()\n",
    "\n",
    "mobile.compile(loss=ks.losses.categorical_crossentropy, optimizer=ks.optimizers.Adam(lr=INIT_LR, decay=INIT_LR / 100),metrics=['accuracy'])\n",
    "\n",
    "experiment_path = os.path.join(' ./experimento/' + exp_name)\n",
    "if not os.path.exists(experiment_path):\n",
    "    os.makedirs(experiment_path)\n",
    "\n",
    "\n",
    "callbacks = [\n",
    "    ModelCheckpoint(os.path.join(experiment_path, 'weights.{epoch:03d}-{val_loss:.2f} hdf5'),\n",
    "                   monitor='val_loss',\n",
    "                   save_best_only=False,\n",
    "                   save_weights_only=False,),\n",
    "    TensorBoard(log_dir=os.path.join(experiment_path, 'logs'))\n",
    "]\n",
    "\n",
    "print('\\nTraining...')\n",
    "h = mobile.fit(train_X, train_Y, batch_size=batch_size,epochs=epochs,verbose=1,validation_data=\n",
    "               (valid_X, valid_Y))\n"
   ]
  },
  {
   "cell_type": "code",
   "execution_count": null,
   "metadata": {},
   "outputs": [],
   "source": []
  }
 ],
 "metadata": {
  "kernelspec": {
   "display_name": "Python 3",
   "language": "python",
   "name": "python3"
  },
  "language_info": {
   "codemirror_mode": {
    "name": "ipython",
    "version": 3
   },
   "file_extension": ".py",
   "mimetype": "text/x-python",
   "name": "python",
   "nbconvert_exporter": "python",
   "pygments_lexer": "ipython3",
   "version": "3.6.7"
  }
 },
 "nbformat": 4,
 "nbformat_minor": 2
}
