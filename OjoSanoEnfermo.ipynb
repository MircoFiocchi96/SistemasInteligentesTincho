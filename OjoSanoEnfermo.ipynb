{
 "cells": [
  {
   "cell_type": "code",
   "execution_count": 1,
   "metadata": {},
   "outputs": [
    {
     "name": "stderr",
     "output_type": "stream",
     "text": [
      "Using TensorFlow backend.\n"
     ]
    }
   ],
   "source": [
    "import numpy as np\n",
    "import matplotlib.pyplot as plt\n",
    "from tqdm import tqdm\n",
    "import os\n",
    "\n",
    "import keras as ks\n",
    "from keras.preprocessing import image\n",
    "from keras.applications import imagenet_utils\n",
    "from IPython.display import display\n",
    "from PIL import Image\n",
    "from keras.callbacks import ModelCheckpoint, TensorBoard\n",
    "from sklearn.preprocessing import MinMaxScaler\n",
    "from sklearn.utils import shuffle\n",
    "from keras.optimizers import Adam\n",
    "from keras.callbacks import ModelCheckpoint, TensorBoard\n",
    "from keras.applications.mobilenet_v2 import MobileNetV2, preprocess_input\n",
    "from sklearn.model_selection import train_test_split\n",
    "from keras.utils.np_utils import to_categorical # convert to one-hot-encoding\n",
    "from keras.models import Sequential, Model, load_model\n",
    "from keras.layers import Dense, Dropout, Flatten, Activation, Conv2D, MaxPool2D, GlobalAveragePooling2D, Input\n",
    "from keras.layers import Conv2D, MaxPooling2D\n",
    "from keras.optimizers import RMSprop, SGD\n",
    "from keras.callbacks import ReduceLROnPlateau, ModelCheckpoint\n",
    "from keras.preprocessing.image import ImageDataGenerator\n",
    "from sklearn.metrics import confusion_matrix, accuracy_score, f1_score, precision_score, recall_score\n",
    "from sklearn.preprocessing import StandardScaler\n",
    "from keras.layers.advanced_activations import LeakyReLU\n",
    "import matplotlib.pyplot as plt\n",
    "from sklearn.metrics import (accuracy_score, confusion_matrix, classification_report, roc_curve, auc)\n",
    "\n",
    "%matplotlib inline"
   ]
  },
  {
   "cell_type": "code",
   "execution_count": 2,
   "metadata": {},
   "outputs": [
    {
     "name": "stderr",
     "output_type": "stream",
     "text": [
      "/usr/local/lib/python3.6/dist-packages/keras_applications/mobilenet_v2.py:295: UserWarning: MobileNet shape is undefined. Weights for input shape(224, 224) will be loaded.\n",
      "  warnings.warn('MobileNet shape is undefined.'\n"
     ]
    },
    {
     "name": "stdout",
     "output_type": "stream",
     "text": [
      "WARNING:tensorflow:From /usr/local/lib/python3.6/dist-packages/tensorflow/python/framework/op_def_library.py:263: colocate_with (from tensorflow.python.framework.ops) is deprecated and will be removed in a future version.\n",
      "Instructions for updating:\n",
      "Colocations handled automatically by placer.\n"
     ]
    }
   ],
   "source": [
    "model = ks.applications.mobilenet_v2.MobileNetV2(include_top=False, weights='imagenet', pooling='avg')\n",
    "#input shape : argumento, es por defecto esos valores\n",
    "# include_top: si se incluye la capa totalmente conectada en la parte superior de la red.\n",
    "# weights='imagenet' \n",
    "#Pesos: uno de None(inicialización aleatoria) o 'imagenet'(pre-entrenamiento en ImageNet).\n",
    "# pooling (agrupacion) -> avg significa promedio global ... salida del modelo de dos dimensiones\n",
    "\n",
    "#esto retom un modelo de keras"
   ]
  },
  {
   "cell_type": "code",
   "execution_count": 3,
   "metadata": {},
   "outputs": [],
   "source": [
    "#f = carpeta del directorio\n",
    "# l= label\n",
    "# m= pesos -> modelo qe usamos para predecir\n",
    "#Carga todas las imagenes de la carpeta que le indiaste y las procesa y le pone la etiqueta de sano y enfermo\n",
    "def load_images_from_folder(f, l, m):\n",
    "    e_l = []\n",
    "    feat_l = []\n",
    "    for filename in tqdm(os.listdir(f)): #TQDM es una biblioteca de barras de progreso con buen soporte para bucles anidados y notebooks Jupyter / IPython.\n",
    "        img_path = os.path.join(f, filename) #directorio\n",
    "        img = image.load_img(img_path, target_size=(224, 224)) #cargamos la imagen y le pasamos el tamanio\n",
    "        x = image.img_to_array(img) #convierte a array \n",
    "        x = np.expand_dims(x, axis=0)#se expande la dimension del array... necesario para que pueda predecir\n",
    "        x = preprocess_input(x) # La preprocess_inputfunción está diseñada para adecuar su imagen al formato que requiere el modelo.\n",
    "        e = m.predict(x) #predecimos\n",
    "\n",
    "        e_l.append(e) #aca mete la predicicion\n",
    "        feat_l.append(l) #y aca mete label\n",
    "        \n",
    "    return e_l, feat_l"
   ]
  },
  {
   "cell_type": "code",
   "execution_count": 4,
   "metadata": {},
   "outputs": [],
   "source": [
    "#Procesa una sola imagen\n",
    "def load_image(f, m):\n",
    "    img_path = os.path.join('', f)\n",
    "    img = image.load_img(img_path, target_size=(224, 224))\n",
    "    x = image.img_to_array(img)\n",
    "    x = np.expand_dims(x, axis=0)\n",
    "    x = preprocess_input(x)\n",
    "    e = m.predict(x)\n",
    "        \n",
    "    return e"
   ]
  },
  {
   "cell_type": "code",
   "execution_count": 5,
   "metadata": {},
   "outputs": [
    {
     "name": "stderr",
     "output_type": "stream",
     "text": [
      "100%|██████████| 828/828 [01:03<00:00, 14.05it/s]\n"
     ]
    }
   ],
   "source": [
    "enfermos, feat_enfermos = load_images_from_folder('fondo_de_ojo_train/enfermo/', 0,model)"
   ]
  },
  {
   "cell_type": "code",
   "execution_count": 6,
   "metadata": {},
   "outputs": [
    {
     "name": "stderr",
     "output_type": "stream",
     "text": [
      "100%|██████████| 817/817 [01:01<00:00, 13.61it/s]\n"
     ]
    }
   ],
   "source": [
    "\n",
    "sanos, feat_sanos = load_images_from_folder('fondo_de_ojo_train/sano/', 1, model)"
   ]
  },
  {
   "cell_type": "code",
   "execution_count": 8,
   "metadata": {},
   "outputs": [],
   "source": [
    "#juntamos para entrenar la red\n",
    "X = sanos + enfermos #JUNTAMOS SANOS Y ENFERMOS\n",
    "Y = feat_sanos + feat_enfermos #\n",
    "X = np.array(X)\n",
    "Y = np.array(Y)\n",
    "X,Y = shuffle(X, Y, random_state = 0) #mezclamos todos los datos"
   ]
  },
  {
   "cell_type": "code",
   "execution_count": 9,
   "metadata": {},
   "outputs": [],
   "source": [
    "nX = []\n",
    "for x in X:\n",
    "    nX.append(x[0])\n",
    "\n",
    "nX = np.array(nX)"
   ]
  },
  {
   "cell_type": "code",
   "execution_count": 10,
   "metadata": {},
   "outputs": [
    {
     "name": "stdout",
     "output_type": "stream",
     "text": [
      "Training data shape :  (1316, 1280) (1316,)\n",
      "Testing data shape :  (329, 1280) (329,)\n"
     ]
    }
   ],
   "source": [
    "train_X,test_X,train_Y,test_Y = train_test_split(nX,Y,test_size=0.2) #dividimos en 20% pra test (?)\n",
    "print('Training data shape : ', train_X.shape, train_Y.shape)\n",
    "print('Testing data shape : ', test_X.shape, test_Y.shape)"
   ]
  },
  {
   "cell_type": "code",
   "execution_count": 11,
   "metadata": {},
   "outputs": [
    {
     "data": {
      "text/plain": [
       "(0.46232197, 0.7729246)"
      ]
     },
     "execution_count": 11,
     "metadata": {},
     "output_type": "execute_result"
    }
   ],
   "source": [
    "#Normalizar\n",
    "#train_X = train_X / 255.\n",
    "#test_X = test_X / 255.\n",
    "# scaler = StandardScaler();\n",
    "# scaler.fit(train_X);\n",
    "# #X_val = scaler.transform(X_val)\n",
    "\n",
    "train_X.mean(), train_X.std()\n",
    "\n",
    "# scaler= MinMaxScaler()\n",
    "# scaler.fit(train_X)\n",
    "# train_X = scaler.transform(train_X)\n",
    "# test_X = scaler.transform(test_X)"
   ]
  },
  {
   "cell_type": "code",
   "execution_count": 12,
   "metadata": {},
   "outputs": [
    {
     "data": {
      "text/plain": [
       "2"
      ]
     },
     "execution_count": 12,
     "metadata": {},
     "output_type": "execute_result"
    }
   ],
   "source": [
    "classes = np.unique(train_Y)\n",
    "nClasses = len(classes)\n",
    "nClasses"
   ]
  },
  {
   "cell_type": "code",
   "execution_count": 13,
   "metadata": {},
   "outputs": [
    {
     "name": "stdout",
     "output_type": "stream",
     "text": [
      "Original label: 0\n",
      "After conversion to one-hot: [1. 0.]\n"
     ]
    }
   ],
   "source": [
    "train_Y_one_hot = to_categorical(train_Y)#el categorical convierte a binario\n",
    "test_Y_one_hot = to_categorical(test_Y)\n",
    " \n",
    "# Display the change for category label using one-hot encoding\n",
    "print('Original label:', train_Y[9])\n",
    "print('After conversion to one-hot:', train_Y_one_hot[1])"
   ]
  },
  {
   "cell_type": "code",
   "execution_count": 14,
   "metadata": {},
   "outputs": [
    {
     "data": {
      "text/plain": [
       "array([[0., 1.],\n",
       "       [1., 0.],\n",
       "       [0., 1.],\n",
       "       ...,\n",
       "       [0., 1.],\n",
       "       [0., 1.],\n",
       "       [0., 1.]], dtype=float32)"
      ]
     },
     "execution_count": 14,
     "metadata": {},
     "output_type": "execute_result"
    }
   ],
   "source": [
    "train_Y_one_hot"
   ]
  },
  {
   "cell_type": "code",
   "execution_count": 15,
   "metadata": {},
   "outputs": [],
   "source": [
    "train_X, valid_X, train_Y, valid_Y = train_test_split(train_X, train_Y_one_hot, test_size=0.2)"
   ]
  },
  {
   "cell_type": "code",
   "execution_count": 16,
   "metadata": {},
   "outputs": [
    {
     "data": {
      "text/plain": [
       "(1052, 1280)"
      ]
     },
     "execution_count": 16,
     "metadata": {},
     "output_type": "execute_result"
    }
   ],
   "source": [
    "train_X.shape"
   ]
  },
  {
   "cell_type": "code",
   "execution_count": 17,
   "metadata": {
    "scrolled": true
   },
   "outputs": [
    {
     "name": "stdout",
     "output_type": "stream",
     "text": [
      "_________________________________________________________________\n",
      "Layer (type)                 Output Shape              Param #   \n",
      "=================================================================\n",
      "dense_1 (Dense)              (None, 20)                25620     \n",
      "_________________________________________________________________\n",
      "activation_1 (Activation)    (None, 20)                0         \n",
      "_________________________________________________________________\n",
      "dense_2 (Dense)              (None, 15)                315       \n",
      "_________________________________________________________________\n",
      "activation_2 (Activation)    (None, 15)                0         \n",
      "_________________________________________________________________\n",
      "dense_3 (Dense)              (None, 2)                 32        \n",
      "=================================================================\n",
      "Total params: 25,967\n",
      "Trainable params: 25,967\n",
      "Non-trainable params: 0\n",
      "_________________________________________________________________\n",
      "\n",
      "Training...\n",
      "WARNING:tensorflow:From /usr/local/lib/python3.6/dist-packages/tensorflow/python/ops/math_ops.py:3066: to_int32 (from tensorflow.python.ops.math_ops) is deprecated and will be removed in a future version.\n",
      "Instructions for updating:\n",
      "Use tf.cast instead.\n",
      "Train on 1052 samples, validate on 264 samples\n",
      "Epoch 1/50\n",
      "1052/1052 [==============================] - 1s 945us/step - loss: 0.7793 - acc: 0.5086 - val_loss: 0.6731 - val_acc: 0.5758\n",
      "Epoch 2/50\n",
      "1052/1052 [==============================] - 0s 32us/step - loss: 0.6710 - acc: 0.6093 - val_loss: 0.6482 - val_acc: 0.6553\n",
      "Epoch 3/50\n",
      "1052/1052 [==============================] - 0s 46us/step - loss: 0.6505 - acc: 0.6464 - val_loss: 0.6305 - val_acc: 0.6477\n",
      "Epoch 4/50\n",
      "1052/1052 [==============================] - 0s 40us/step - loss: 0.6290 - acc: 0.6559 - val_loss: 0.6230 - val_acc: 0.6705\n",
      "Epoch 5/50\n",
      "1052/1052 [==============================] - 0s 48us/step - loss: 0.6195 - acc: 0.6721 - val_loss: 0.6153 - val_acc: 0.6553\n",
      "Epoch 6/50\n",
      "1052/1052 [==============================] - 0s 47us/step - loss: 0.5934 - acc: 0.6711 - val_loss: 0.6208 - val_acc: 0.6364\n",
      "Epoch 7/50\n",
      "1052/1052 [==============================] - 0s 35us/step - loss: 0.5795 - acc: 0.6911 - val_loss: 0.6016 - val_acc: 0.6856\n",
      "Epoch 8/50\n",
      "1052/1052 [==============================] - 0s 33us/step - loss: 0.5624 - acc: 0.7091 - val_loss: 0.5942 - val_acc: 0.6667\n",
      "Epoch 9/50\n",
      "1052/1052 [==============================] - 0s 36us/step - loss: 0.5411 - acc: 0.7367 - val_loss: 0.6034 - val_acc: 0.6818\n",
      "Epoch 10/50\n",
      "1052/1052 [==============================] - 0s 38us/step - loss: 0.5358 - acc: 0.7291 - val_loss: 0.5791 - val_acc: 0.7083\n",
      "Epoch 11/50\n",
      "1052/1052 [==============================] - 0s 39us/step - loss: 0.5163 - acc: 0.7433 - val_loss: 0.6148 - val_acc: 0.6705\n",
      "Epoch 12/50\n",
      "1052/1052 [==============================] - 0s 34us/step - loss: 0.4953 - acc: 0.7519 - val_loss: 0.5878 - val_acc: 0.6970\n",
      "Epoch 13/50\n",
      "1052/1052 [==============================] - 0s 38us/step - loss: 0.5031 - acc: 0.7357 - val_loss: 0.6260 - val_acc: 0.6326\n",
      "Epoch 14/50\n",
      "1052/1052 [==============================] - 0s 45us/step - loss: 0.4844 - acc: 0.7690 - val_loss: 0.5847 - val_acc: 0.6894\n",
      "Epoch 15/50\n",
      "1052/1052 [==============================] - 0s 40us/step - loss: 0.4539 - acc: 0.7947 - val_loss: 0.5903 - val_acc: 0.6856\n",
      "Epoch 16/50\n",
      "1052/1052 [==============================] - 0s 41us/step - loss: 0.4516 - acc: 0.7880 - val_loss: 0.5953 - val_acc: 0.6856\n",
      "Epoch 17/50\n",
      "1052/1052 [==============================] - 0s 44us/step - loss: 0.4412 - acc: 0.7947 - val_loss: 0.6027 - val_acc: 0.6667\n",
      "Epoch 18/50\n",
      "1052/1052 [==============================] - 0s 40us/step - loss: 0.4512 - acc: 0.7728 - val_loss: 0.6599 - val_acc: 0.6250\n",
      "Epoch 19/50\n",
      "1052/1052 [==============================] - 0s 41us/step - loss: 0.4341 - acc: 0.7947 - val_loss: 0.6671 - val_acc: 0.6250\n",
      "Epoch 20/50\n",
      "1052/1052 [==============================] - 0s 36us/step - loss: 0.4334 - acc: 0.7918 - val_loss: 0.6023 - val_acc: 0.6742\n",
      "Epoch 21/50\n",
      "1052/1052 [==============================] - 0s 35us/step - loss: 0.3932 - acc: 0.8260 - val_loss: 0.6128 - val_acc: 0.6780\n",
      "Epoch 22/50\n",
      "1052/1052 [==============================] - 0s 37us/step - loss: 0.3784 - acc: 0.8413 - val_loss: 0.6515 - val_acc: 0.6667\n",
      "Epoch 23/50\n",
      "1052/1052 [==============================] - 0s 39us/step - loss: 0.3838 - acc: 0.8289 - val_loss: 0.6260 - val_acc: 0.7008\n",
      "Epoch 24/50\n",
      "1052/1052 [==============================] - 0s 41us/step - loss: 0.3900 - acc: 0.8146 - val_loss: 0.6262 - val_acc: 0.6667\n",
      "Epoch 25/50\n",
      "1052/1052 [==============================] - 0s 46us/step - loss: 0.3536 - acc: 0.8584 - val_loss: 0.6919 - val_acc: 0.6364\n",
      "Epoch 26/50\n",
      "1052/1052 [==============================] - 0s 43us/step - loss: 0.3653 - acc: 0.8432 - val_loss: 0.6218 - val_acc: 0.6515\n",
      "Epoch 27/50\n",
      "1052/1052 [==============================] - 0s 41us/step - loss: 0.3552 - acc: 0.8346 - val_loss: 0.6314 - val_acc: 0.6629\n",
      "Epoch 28/50\n",
      "1052/1052 [==============================] - 0s 38us/step - loss: 0.3510 - acc: 0.8384 - val_loss: 0.6450 - val_acc: 0.6667\n",
      "Epoch 29/50\n",
      "1052/1052 [==============================] - 0s 48us/step - loss: 0.3229 - acc: 0.8774 - val_loss: 0.7116 - val_acc: 0.6780\n",
      "Epoch 30/50\n",
      "1052/1052 [==============================] - 0s 36us/step - loss: 0.3367 - acc: 0.8479 - val_loss: 0.7137 - val_acc: 0.6780\n",
      "Epoch 31/50\n",
      "1052/1052 [==============================] - 0s 43us/step - loss: 0.3143 - acc: 0.8774 - val_loss: 0.6500 - val_acc: 0.6705\n",
      "Epoch 32/50\n",
      "1052/1052 [==============================] - 0s 34us/step - loss: 0.3013 - acc: 0.8888 - val_loss: 0.6629 - val_acc: 0.6742\n",
      "Epoch 33/50\n",
      "1052/1052 [==============================] - 0s 35us/step - loss: 0.2891 - acc: 0.8964 - val_loss: 0.6666 - val_acc: 0.6439\n",
      "Epoch 34/50\n",
      "1052/1052 [==============================] - 0s 35us/step - loss: 0.2802 - acc: 0.9021 - val_loss: 0.6900 - val_acc: 0.6818\n",
      "Epoch 35/50\n",
      "1052/1052 [==============================] - 0s 39us/step - loss: 0.2680 - acc: 0.9021 - val_loss: 0.6886 - val_acc: 0.6780\n",
      "Epoch 36/50\n",
      "1052/1052 [==============================] - 0s 39us/step - loss: 0.2653 - acc: 0.9106 - val_loss: 0.6989 - val_acc: 0.6780\n",
      "Epoch 37/50\n",
      "1052/1052 [==============================] - 0s 39us/step - loss: 0.2847 - acc: 0.8755 - val_loss: 0.6917 - val_acc: 0.6705\n",
      "Epoch 38/50\n",
      "1052/1052 [==============================] - 0s 40us/step - loss: 0.2456 - acc: 0.9173 - val_loss: 0.6956 - val_acc: 0.6742\n",
      "Epoch 39/50\n",
      "1052/1052 [==============================] - 0s 38us/step - loss: 0.2472 - acc: 0.9154 - val_loss: 0.7159 - val_acc: 0.6591\n",
      "Epoch 40/50\n",
      "1052/1052 [==============================] - 0s 33us/step - loss: 0.2611 - acc: 0.9049 - val_loss: 0.7346 - val_acc: 0.6856\n",
      "Epoch 41/50\n",
      "1052/1052 [==============================] - 0s 42us/step - loss: 0.2378 - acc: 0.9202 - val_loss: 0.7783 - val_acc: 0.6818\n",
      "Epoch 42/50\n",
      "1052/1052 [==============================] - 0s 39us/step - loss: 0.2343 - acc: 0.9297 - val_loss: 0.7327 - val_acc: 0.6780\n",
      "Epoch 43/50\n",
      "1052/1052 [==============================] - 0s 38us/step - loss: 0.2215 - acc: 0.9363 - val_loss: 0.7354 - val_acc: 0.6667\n",
      "Epoch 44/50\n",
      "1052/1052 [==============================] - 0s 38us/step - loss: 0.2157 - acc: 0.9344 - val_loss: 0.7666 - val_acc: 0.6932\n",
      "Epoch 45/50\n",
      "1052/1052 [==============================] - 0s 37us/step - loss: 0.2113 - acc: 0.9354 - val_loss: 0.7631 - val_acc: 0.6894\n",
      "Epoch 46/50\n",
      "1052/1052 [==============================] - 0s 44us/step - loss: 0.2012 - acc: 0.9468 - val_loss: 0.7738 - val_acc: 0.6894\n",
      "Epoch 47/50\n",
      "1052/1052 [==============================] - 0s 41us/step - loss: 0.1919 - acc: 0.9487 - val_loss: 0.7866 - val_acc: 0.6818\n",
      "Epoch 48/50\n",
      "1052/1052 [==============================] - 0s 39us/step - loss: 0.1871 - acc: 0.9392 - val_loss: 0.7889 - val_acc: 0.6742\n",
      "Epoch 49/50\n",
      "1052/1052 [==============================] - 0s 38us/step - loss: 0.1801 - acc: 0.9525 - val_loss: 0.8168 - val_acc: 0.6894\n",
      "Epoch 50/50\n",
      "1052/1052 [==============================] - 0s 40us/step - loss: 0.1820 - acc: 0.9430 - val_loss: 0.8006 - val_acc: 0.6667\n"
     ]
    }
   ],
   "source": [
    "INIT_LR = 1e-3\n",
    "epochs = 50 #cantidad de ciclos # Un 'epoch' significa cuando el optimizador ya vio todos los ejemplos de entrenamiento al menos una vez.\n",
    "batch_size = 64 # 'batch_size' regula cuantas muestras utiliza el optimizador para calcular el gradiente en cada iteracion.\n",
    "exp_name = 'e23'#nombre del exprimento\n",
    "\n",
    "# Construimos nuestro modelo\n",
    "mobile = Sequential() #Las redes neuronales se definen en Keras como una secuencia de capas. \n",
    "mobile.add(Dense(20, input_dim=train_X.shape[1], activation='relu'))\n",
    "mobile.add(Activation('relu'))\n",
    "mobile.add(Dense(15))\n",
    "mobile.add(Activation('relu'))\n",
    "\n",
    "\n",
    "mobile.add(Dense(nClasses, activation='softmax'))\n",
    "\n",
    "#Imprime una representación resumida de tu modelo.\n",
    "optimizer=Adam(lr=0.001)\n",
    "\n",
    "mobile.compile(loss='categorical_crossentropy', optimizer=optimizer, metrics=['accuracy'])\n",
    "mobile.summary()\n",
    "\n",
    "# mobile.compile(loss=ks.losses.categorical_crossentropy, optimizer=ks.optimizers.Adam(lr=INIT_LR, decay=INIT_LR / 100),metrics=['accuracy'])\n",
    "\n",
    "experiment_path = os.path.join('experimento/' + exp_name)\n",
    "if not os.path.exists(experiment_path):\n",
    "    os.makedirs(experiment_path)\n",
    "\n",
    "\n",
    "callbacks = [\n",
    "    ModelCheckpoint(os.path.join(experiment_path, 'weights.{epoch:03d}-{val_loss:.2f} hdf5'),\n",
    "                   monitor='val_loss',\n",
    "                   save_best_only=False,\n",
    "                   save_weights_only=False,),\n",
    "    TensorBoard(log_dir=os.path.join(experiment_path, 'logs'))\n",
    "]\n",
    "\n",
    "print('\\nTraining...')\n",
    "h = mobile.fit(train_X, train_Y, batch_size=batch_size,epochs=epochs,verbose=1,validation_data=\n",
    "               (valid_X, valid_Y),callbacks=callbacks)\n"
   ]
  },
  {
   "cell_type": "code",
   "execution_count": 20,
   "metadata": {},
   "outputs": [
    {
     "name": "stdout",
     "output_type": "stream",
     "text": [
      "329/329 [==============================] - 0s 747us/step\n",
      "Resultados en test:\n",
      "  Loss: 0.5277\n",
      "  MAE: 0.7416\n"
     ]
    }
   ],
   "source": [
    "# Ahora cargamos los pesos de la mejor iteracion\n",
    "trained_model = load_model('experimento/e23/weights.013-0.58 hdf5')\n",
    "\n",
    "# De esta forma puedo obtener predicciones para nuevos datos con mi modelo\n",
    "Y_pred = trained_model.predict(test_X)\n",
    "\n",
    "# Evaluamos el modelo sobre el conjunto de testing\n",
    "test_loss, test_acc = trained_model.evaluate(test_X, test_Y_one_hot)\n",
    "print('Resultados en test:\\n  Loss: {:.4f}\\n  MAE: {:.4f}'.format(test_loss, test_acc))\n"
   ]
  },
  {
   "cell_type": "code",
   "execution_count": 21,
   "metadata": {},
   "outputs": [
    {
     "name": "stdout",
     "output_type": "stream",
     "text": [
      "329/329 [==============================] - 0s 30us/step\n",
      "Test loss: 0.8212414559622304\n",
      "Test accuracy: 0.6352583590249522\n"
     ]
    }
   ],
   "source": [
    "mobile_eval = mobile.evaluate(test_X, test_Y_one_hot, verbose=1)\n",
    "\n",
    "print('Test loss:', mobile_eval[0])\n",
    "print('Test accuracy:', mobile_eval[1])"
   ]
  },
  {
   "cell_type": "code",
   "execution_count": 22,
   "metadata": {},
   "outputs": [
    {
     "name": "stdout",
     "output_type": "stream",
     "text": [
      "[0.0, 0.0, 0.0, 0.0, 1.0, 1.0, 0.0, 0.0, 1.0, 0.0, 0.0, 0.0, 1.0, 0.0, 1.0, 1.0, 1.0, 1.0, 0.0, 1.0, 1.0, 0.0, 1.0, 1.0, 1.0, 1.0, 1.0, 0.0, 0.0, 0.0, 1.0, 1.0, 0.0, 0.0, 0.0, 1.0, 1.0, 0.0, 0.0, 1.0, 1.0, 0.0, 0.0, 1.0, 0.0, 1.0, 1.0, 0.0, 1.0, 1.0, 1.0, 0.0, 0.0, 1.0, 0.0, 0.0, 1.0, 1.0, 1.0, 1.0, 1.0, 1.0, 1.0, 1.0, 1.0, 1.0, 0.0, 0.0, 0.0, 0.0, 0.0, 1.0, 0.0, 1.0, 1.0, 0.0, 1.0, 0.0, 0.0, 0.0, 1.0, 0.0, 0.0, 1.0, 1.0, 1.0, 1.0, 1.0, 1.0, 0.0, 0.0, 0.0, 0.0, 0.0, 0.0, 0.0, 0.0, 1.0, 1.0, 1.0, 1.0, 1.0, 1.0, 1.0, 0.0, 1.0, 0.0, 0.0, 0.0, 0.0, 0.0, 0.0, 1.0, 0.0, 0.0, 0.0, 0.0, 1.0, 0.0, 1.0, 1.0, 0.0, 0.0, 0.0, 1.0, 1.0, 1.0, 1.0, 1.0, 0.0, 1.0, 1.0, 0.0, 1.0, 0.0, 0.0, 1.0, 1.0, 0.0, 0.0, 0.0, 0.0, 1.0, 1.0, 0.0, 1.0, 0.0, 1.0, 1.0, 1.0, 0.0, 1.0, 1.0, 1.0, 1.0, 1.0, 1.0, 1.0, 0.0, 1.0, 0.0, 1.0, 1.0, 1.0, 1.0, 1.0, 1.0, 0.0, 0.0, 0.0, 1.0, 0.0, 1.0, 1.0, 1.0, 1.0, 0.0, 0.0, 1.0, 1.0, 0.0, 1.0, 1.0, 1.0, 0.0, 0.0, 0.0, 1.0, 0.0, 0.0, 0.0, 1.0, 0.0, 0.0, 0.0, 1.0, 1.0, 0.0, 0.0, 1.0, 0.0, 1.0, 1.0, 1.0, 1.0, 1.0, 0.0, 1.0, 0.0, 0.0, 1.0, 0.0, 0.0, 1.0, 1.0, 1.0, 1.0, 0.0, 0.0, 1.0, 1.0, 1.0, 1.0, 0.0, 1.0, 0.0, 1.0, 0.0, 0.0, 0.0, 1.0, 1.0, 1.0, 1.0, 1.0, 0.0, 0.0, 1.0, 0.0, 0.0, 0.0, 0.0, 1.0, 0.0, 1.0, 1.0, 0.0, 1.0, 0.0, 0.0, 0.0, 0.0, 1.0, 1.0, 1.0, 0.0, 1.0, 1.0, 0.0, 1.0, 1.0, 1.0, 1.0, 0.0, 1.0, 0.0, 0.0, 1.0, 1.0, 0.0, 0.0, 0.0, 1.0, 1.0, 0.0, 1.0, 1.0, 0.0, 1.0, 0.0, 1.0, 0.0, 1.0, 1.0, 1.0, 1.0, 1.0, 1.0, 1.0, 1.0, 0.0, 1.0, 0.0, 0.0, 1.0, 1.0, 0.0, 0.0, 1.0, 1.0, 0.0, 1.0, 0.0, 0.0, 0.0, 0.0, 1.0, 1.0, 1.0, 0.0, 0.0, 0.0, 0.0, 1.0, 1.0, 0.0, 1.0, 1.0, 1.0, 0.0, 0.0, 0.0, 0.0, 1.0, 0.0, 0.0, 0.0, 0.0, 0.0]\n"
     ]
    }
   ],
   "source": [
    "# calculate predictions\n",
    "predictions = mobile.predict(test_X)\n",
    "# round predictions\n",
    "rounded = [round(x[0]) for x in predictions]\n",
    "print(rounded)"
   ]
  },
  {
   "cell_type": "code",
   "execution_count": 23,
   "metadata": {},
   "outputs": [],
   "source": [
    "enfermito = load_image('fondo_de_ojo_train/enfermo/retinopatía.png', model)\n",
    "sanito = load_image('fondo_de_ojo_train/sano/iStock-147659033.jpg', model)"
   ]
  },
  {
   "cell_type": "code",
   "execution_count": 24,
   "metadata": {},
   "outputs": [
    {
     "data": {
      "text/plain": [
       "(2, 1, 1280)"
      ]
     },
     "execution_count": 24,
     "metadata": {},
     "output_type": "execute_result"
    }
   ],
   "source": [
    "n1 = enfermito\n",
    "n2 = sanito\n",
    "n = np.array([n1, n2])\n",
    "n.shape"
   ]
  },
  {
   "cell_type": "code",
   "execution_count": 25,
   "metadata": {},
   "outputs": [
    {
     "data": {
      "text/plain": [
       "array([[0.9664891 , 0.03351095]], dtype=float32)"
      ]
     },
     "execution_count": 25,
     "metadata": {},
     "output_type": "execute_result"
    }
   ],
   "source": [
    "pred = trained_model.predict(n1)\n",
    "pred"
   ]
  },
  {
   "cell_type": "code",
   "execution_count": 26,
   "metadata": {},
   "outputs": [
    {
     "name": "stdout",
     "output_type": "stream",
     "text": [
      "+ Un vistazo algunas predicciones y el valor esperado:\n",
      "  y_pred = [0.23548211 0.12313782 0.13056847 0.49488014 0.9997949  0.9841817\n",
      " 0.14888911 0.19671635 0.79723597 0.41148514 0.01358742 0.00948487\n",
      " 0.9878734  0.20121014 0.5884188  0.9834336  0.792919   0.747292\n",
      " 0.46411717 0.8383003 ]\n",
      "  y_true = [1 0 1 0 0 0 0 0 0 0 0 1 1 1 0 0 0 1 1 0]\n"
     ]
    }
   ],
   "source": [
    "# Obtengamos predicciones para el conjunto de test\n",
    "model_predictions = mobile.predict(test_X)\n",
    "y_pred = model_predictions[:, 0]  \n",
    "y_pred2 = [i for i in np.argmax(model_predictions, axis=1)]\n",
    "y_true = test_Y #[i for i in np.argmax(test_Y, axis=1)]\n",
    "print('+ Un vistazo algunas predicciones y el valor esperado:')\n",
    "print('  y_pred = {}'.format(y_pred[:20]))\n",
    "print('  y_true = {}'.format(y_true[:20]))"
   ]
  },
  {
   "cell_type": "code",
   "execution_count": 27,
   "metadata": {},
   "outputs": [
    {
     "name": "stdout",
     "output_type": "stream",
     "text": [
      "+ Accuracy en test: 0.6353\n",
      "\n",
      "+ Confusion Matrix\n"
     ]
    },
    {
     "data": {
      "image/png": "[encoded data removed]",
      "text/plain": [
       "<Figure size 432x288 with 2 Axes>"
      ]
     },
     "metadata": {
      "needs_background": "light"
     },
     "output_type": "display_data"
    },
    {
     "name": "stdout",
     "output_type": "stream",
     "text": [
      "\n",
      "+ Classification Report\n",
      "              precision    recall  f1-score   support\n",
      "\n",
      "           0       0.61      0.67      0.64       160\n",
      "           1       0.66      0.60      0.63       169\n",
      "\n",
      "    accuracy                           0.64       329\n",
      "   macro avg       0.64      0.64      0.64       329\n",
      "weighted avg       0.64      0.64      0.64       329\n",
      "\n",
      "\n",
      "+ ROC\n"
     ]
    },
    {
     "data": {
      "image/png": "[encoded data removed]",
      "text/plain": [
       "<Figure size 432x288 with 1 Axes>"
      ]
     },
     "metadata": {
      "needs_background": "light"
     },
     "output_type": "display_data"
    }
   ],
   "source": [
    "# Podemos usar accuracy_score en vez de model.evaluate para obtener\n",
    "# el accuracy a partir de las predicciones y el valor esperado\n",
    "acc = accuracy_score(y_true, y_pred2)\n",
    "print('+ Accuracy en test: {:.4f}'.format(acc))\n",
    "\n",
    "# Hagamos una matriz de confusion\n",
    "# Mas info: https://en.wikipedia.org/wiki/Confusion_matrix\n",
    "print('\\n+ Confusion Matrix')\n",
    "cm = confusion_matrix(y_true, y_pred2)\n",
    "fig = plt.figure()\n",
    "ax = fig.add_subplot(111)\n",
    "cax = ax.matshow(cm)\n",
    "plt.title('Confusion matrix of the classifier')\n",
    "fig.colorbar(cax)\n",
    "plt.xlabel('Predicted')\n",
    "plt.ylabel('True')\n",
    "plt.show()\n",
    "\n",
    "# Tambien podemos usar el reporte de clasificacion\n",
    "# Mas info: https://en.wikipedia.org/wiki/Precision_and_recall\n",
    "print('\\n+ Classification Report')\n",
    "print(classification_report(y_true, y_pred2))\n",
    "\n",
    "# Curva ROC\n",
    "print('\\n+ ROC')\n",
    "y_pred_scores = model_predictions[:, 1]\n",
    "fpr, tpr, thresholds = roc_curve(y_true, y_pred_scores)\n",
    "roc_auc = auc(fpr, tpr)\n",
    "# Plot\n",
    "plt.figure()\n",
    "lw = 2\n",
    "plt.plot(fpr, tpr, color='darkorange',\n",
    "         lw=lw, label='ROC curve (area = {:.4f})'.format(roc_auc))\n",
    "plt.plot([0, 1], [0, 1], color='navy', lw=lw, linestyle='--')\n",
    "plt.xlim([0.0, 1.0])\n",
    "plt.ylim([0.0, 1.05])\n",
    "plt.xlabel('False Positive Rate')\n",
    "plt.ylabel('True Positive Rate')\n",
    "plt.title('Receiver operating characteristic example')\n",
    "plt.legend(loc='lower right')\n",
    "plt.show()"
   ]
  },
  {
   "cell_type": "code",
   "execution_count": 44,
   "metadata": {},
   "outputs": [],
   "source": [
    "def load_images_from_folderr(f,m):\n",
    "    e_l = []\n",
    "    for filename in tqdm(os.listdir(f)): #TQDM es una biblioteca de barras de progreso con buen soporte para bucles anidados y notebooks Jupyter / IPython.\n",
    "        img_path = os.path.join(f, filename) #directorio\n",
    "\n",
    "        img = image.load_img(img_path, target_size=(224, 224)) #cargamos la imagen y le pasamos el tamanio\n",
    "        x = image.img_to_array(img) #convierte a array \n",
    "        x = np.expand_dims(x, axis=0)#se expande la dimension del array... necesario para que pueda predecir\n",
    "        x = preprocess_input(x) # La preprocess_inputfunción está diseñada para adecuar su imagen al formato que requiere el modelo.\n",
    "        e = m.predict(x) #predecimos\n",
    "\n",
    "        e_l.append((img_path, e)) #aca mete la predicicion\n",
    "        #y aca mete label\n",
    "        \n",
    "    return e_l"
   ]
  },
  {
   "cell_type": "code",
   "execution_count": 45,
   "metadata": {},
   "outputs": [
    {
     "name": "stderr",
     "output_type": "stream",
     "text": [
      "100%|██████████| 816/816 [00:55<00:00, 14.71it/s]\n"
     ]
    }
   ],
   "source": [
    "path_img='fondo_de_ojo_test_unlabeled'\n",
    "images = load_images_from_folderr(path_img,model)\n",
    "\n"
   ]
  },
  {
   "cell_type": "code",
   "execution_count": 46,
   "metadata": {},
   "outputs": [],
   "source": [
    "import pandas as pd\n",
    "X = [];\n",
    "Y = [];\n",
    "nombre = [];\n",
    "\n",
    "for img in images:\n",
    "    X.append(img[1][0])\n",
    "    Y.append(img[0])\n",
    "\t\n",
    "Xi = np.array(X)# feature de la imagen\n",
    "Yi = np.array(Y)#nombre de la imagen\n",
    "\n",
    "modelo_entrenado = load_model('experimento/e23/weights.013-0.58 hdf5')\n",
    "\n",
    "m = modelo_entrenado.predict(Xi)\n",
    "\n",
    "m_x = np.argmax(m, axis=1)\n",
    "for i in m_x:\n",
    "    if i == 0:\n",
    "        nombre.append('enfermo')\n",
    "    else:\n",
    "        nombre.append('sano')\n",
    "df = pd.DataFrame(data={'nombre':Yi,'clase':nombre}, columns = ['nombre','clase'])\n",
    "\n",
    "    \n",
    "\n",
    "df.to_csv(\"CSV/file.csv\")\n"
   ]
  },
  {
   "cell_type": "code",
   "execution_count": 34,
   "metadata": {},
   "outputs": [
    {
     "data": {
      "text/plain": [
       "(817, 1, 1280)"
      ]
     },
     "execution_count": 34,
     "metadata": {},
     "output_type": "execute_result"
    }
   ],
   "source": [
    "Xi.shape\n"
   ]
  },
  {
   "cell_type": "code",
   "execution_count": null,
   "metadata": {},
   "outputs": [],
   "source": []
  }
 ],
 "metadata": {
  "kernelspec": {
   "display_name": "Python 3",
   "language": "python",
   "name": "python3"
  },
  "language_info": {
   "codemirror_mode": {
    "name": "ipython",
    "version": 3
   },
   "file_extension": ".py",
   "mimetype": "text/x-python",
   "name": "python",
   "nbconvert_exporter": "python",
   "pygments_lexer": "ipython3",
   "version": "3.6.7"
  }
 },
 "nbformat": 4,
 "nbformat_minor": 2
}
